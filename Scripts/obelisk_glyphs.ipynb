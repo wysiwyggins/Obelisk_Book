{
 "cells": [
  {
   "cell_type": "code",
   "execution_count": 1,
   "metadata": {},
   "outputs": [],
   "source": [
    "# make 100 cuneiform svg characters with flat"
   ]
  },
  {
   "cell_type": "code",
   "execution_count": 2,
   "metadata": {},
   "outputs": [
    {
     "output_type": "stream",
     "name": "stdout",
     "text": [
      "Requirement already satisfied: flat in /Library/Frameworks/Python.framework/Versions/3.9/lib/python3.9/site-packages (0.3.2)\n"
     ]
    }
   ],
   "source": [
    "!pip install flat"
   ]
  },
  {
   "cell_type": "code",
   "execution_count": 3,
   "metadata": {},
   "outputs": [],
   "source": [
    "import os.path"
   ]
  },
  {
   "cell_type": "code",
   "execution_count": 4,
   "metadata": {},
   "outputs": [],
   "source": [
    "from flat import document, shape, rgba"
   ]
  },
  {
   "cell_type": "code",
   "execution_count": 5,
   "metadata": {},
   "outputs": [],
   "source": [
    "from IPython.display import SVG, display\n",
    "def show(page):\n",
    "    display(SVG(page.svg()))"
   ]
  },
  {
   "cell_type": "code",
   "execution_count": 6,
   "metadata": {},
   "outputs": [
    {
     "output_type": "stream",
     "name": "stdout",
     "text": [
      "Collecting https://github.com/aparrish/bezmerizing/archive/master.zip\n",
      "  Using cached https://github.com/aparrish/bezmerizing/archive/master.zip\n",
      "Requirement already satisfied: flat>=0.0.3 in /Library/Frameworks/Python.framework/Versions/3.9/lib/python3.9/site-packages (from bezmerizing==0.1.1) (0.3.2)\n",
      "Requirement already satisfied: scipy>=1.1.0 in /Library/Frameworks/Python.framework/Versions/3.9/lib/python3.9/site-packages (from bezmerizing==0.1.1) (1.6.2)\n",
      "Requirement already satisfied: numpy>=1.16.0 in /Library/Frameworks/Python.framework/Versions/3.9/lib/python3.9/site-packages (from bezmerizing==0.1.1) (1.20.2)\n"
     ]
    }
   ],
   "source": [
    "!pip install https://github.com/aparrish/bezmerizing/archive/master.zip"
   ]
  },
  {
   "cell_type": "code",
   "execution_count": 7,
   "metadata": {},
   "outputs": [],
   "source": [
    "from bezmerizing import Polyline"
   ]
  },
  {
   "cell_type": "code",
   "execution_count": 8,
   "metadata": {},
   "outputs": [],
   "source": [
    "import numpy as np"
   ]
  },
  {
   "cell_type": "code",
   "execution_count": 9,
   "metadata": {},
   "outputs": [],
   "source": [
    "from numpy.random import uniform, normal, choice"
   ]
  },
  {
   "cell_type": "code",
   "execution_count": 10,
   "metadata": {},
   "outputs": [
    {
     "output_type": "execute_result",
     "data": {
      "text/plain": [
       "array([[ 0.        , 50.        ],\n",
       "       [ 6.66666667, 43.33333333],\n",
       "       [13.33333333, 36.66666667],\n",
       "       [20.        , 30.        ],\n",
       "       [26.66666667, 23.33333333],\n",
       "       [33.33333333, 16.66666667],\n",
       "       [40.        , 10.        ]])"
      ]
     },
     "metadata": {},
     "execution_count": 10
    }
   ],
   "source": [
    "np.linspace([0, 50], [40, 10], 7)"
   ]
  },
  {
   "cell_type": "code",
   "execution_count": 11,
   "metadata": {},
   "outputs": [],
   "source": [
    "p = Polyline(np.linspace([10, 50], [90, 50], 10))"
   ]
  },
  {
   "cell_type": "code",
   "execution_count": 12,
   "metadata": {},
   "outputs": [
    {
     "output_type": "execute_result",
     "data": {
      "text/plain": [
       "Polyline([[18.8889, 47.5000], [20.6667, 47.6098], [22.4444, 47.7195], [24.2222, 47.8293], [26.0000, 47.9390], [27.7778, 48.0488], [27.7778, 48.1585], [29.5556, 48.2683], [31.3333, 48.3780], [33.1111, 48.4878], [34.8889, 48.5976], [36.6667, 48.7073], [36.6667, 48.8171], [38.4444, 48.9268], [40.2222, 49.0122], [42.0000, 49.0488], [43.7778, 49.0854], [45.5556, 49.1220], [45.5556, 49.1585], [47.3333, 49.1951], [49.1111, 49.2317], [50.8889, 49.2683], [52.6667, 49.3049], [54.4444, 49.3415], [54.4444, 49.3780], [56.2222, 49.4146], [58.0000, 49.4512], [59.7778, 49.4878], [61.5556, 49.5122], [63.3333, 49.5305], [63.3333, 49.5488], [65.1111, 49.5671], [66.8889, 49.5854], [68.6667, 49.6037], [70.4444, 49.6220], [72.2222, 49.6402], [72.2222, 49.6585], [74.0000, 49.6768], [75.7778, 49.6951], [77.5556, 49.7134], [79.3333, 49.7317], [81.1111, 49.7500], [81.1111, 50.2500], [79.3333, 50.2683], [77.5556, 50.2866], [75.7778, 50.3049], [74.0000, 50.3232], [72.2222, 50.3415], [72.2222, 50.3598], [70.4444, 50.3780], [68.6667, 50.3963], [66.8889, 50.4146], [65.1111, 50.4329], [63.3333, 50.4512], [63.3333, 50.4695], [61.5556, 50.4878], [59.7778, 50.5122], [58.0000, 50.5488], [56.2222, 50.5854], [54.4444, 50.6220], [54.4444, 50.6585], [52.6667, 50.6951], [50.8889, 50.7317], [49.1111, 50.7683], [47.3333, 50.8049], [45.5556, 50.8415], [45.5556, 50.8780], [43.7778, 50.9146], [42.0000, 50.9512], [40.2222, 50.9878], [38.4444, 51.0732], [36.6667, 51.1829], [36.6667, 51.2927], [34.8889, 51.4024], [33.1111, 51.5122], [31.3333, 51.6220], [29.5556, 51.7317], [27.7778, 51.8415], [27.7778, 51.9512], [26.0000, 52.0610], [24.2222, 52.1707], [22.4444, 52.2805], [20.6667, 52.3902], [18.8889, 52.5000]])"
      ]
     },
     "metadata": {},
     "execution_count": 12
    }
   ],
   "source": [
    "p.fancy_curve(thicknesses=[5, 2, 1, 0.5])"
   ]
  },
  {
   "cell_type": "code",
   "execution_count": 13,
   "metadata": {},
   "outputs": [
    {
     "output_type": "display_data",
     "data": {
      "text/plain": "<IPython.core.display.SVG object>",
      "image/svg+xml": "<svg xmlns=\"http://www.w3.org/2000/svg\" xmlns:xlink=\"http://www.w3.org/1999/xlink\" version=\"1.1\" width=\"283.4646pt\" height=\"283.4646pt\" viewBox=\"0 0 283.4646 283.4646\">\n<title>Untitled</title>\n<polygon points=\"53.5433 134.6457 58.5827 134.9568 63.622 135.2679 68.6614 135.579 73.7008 135.8901 78.7402 136.2013 78.7402 136.5124 83.7795 136.8235 88.8189 137.1346 93.8583 137.4457 98.8976 137.7569 103.937 138.068 103.937 138.3791 108.9764 138.6902 114.0157 138.9322 119.0551 139.0359 124.0945 139.1396 129.1339 139.2433 129.1339 139.347 134.1732 139.4507 139.2126 139.5544 144.252 139.6582 149.2913 139.7619 154.3307 139.8656 154.3307 139.9693 159.3701 140.073 164.4094 140.1767 169.4488 140.2804 174.4882 140.3495 179.5276 140.4014 179.5276 140.4532 184.5669 140.5051 189.6063 140.5569 194.6457 140.6088 199.685 140.6606 204.7244 140.7125 204.7244 140.7644 209.7638 140.8162 214.8031 140.8681 219.8425 140.9199 224.8819 140.9718 229.9213 141.0236 229.9213 142.4409 224.8819 142.4928 219.8425 142.5447 214.8031 142.5965 209.7638 142.6484 204.7244 142.7002 204.7244 142.7521 199.685 142.8039 194.6457 142.8558 189.6063 142.9076 184.5669 142.9595 179.5276 143.0113 179.5276 143.0632 174.4882 143.115 169.4488 143.1842 164.4094 143.2879 159.3701 143.3916 154.3307 143.4953 154.3307 143.599 149.2913 143.7027 144.252 143.8064 139.2126 143.9101 134.1732 144.0138 129.1339 144.1175 129.1339 144.2212 124.0945 144.3249 119.0551 144.4287 114.0157 144.5324 108.9764 144.7743 103.937 145.0855 103.937 145.3966 98.8976 145.7077 93.8583 146.0188 88.8189 146.3299 83.7795 146.6411 78.7402 146.9522 78.7402 147.2633 73.7008 147.5744 68.6614 147.8855 63.622 148.1967 58.5827 148.5078 53.5433 148.8189\" fill=\"rgba(0,0,0,1)\"/>\n</svg>"
     },
     "metadata": {}
    }
   ],
   "source": [
    "d = document(100, 100, 'mm')\n",
    "page = d.addpage()\n",
    "brush = shape().nostroke().fill(rgba(0, 0, 0, 255))\n",
    "page.place(brush.polygon(p.fancy_curve(thicknesses=[5, 2, 1, 0.5])))\n",
    "show(page)"
   ]
  },
  {
   "cell_type": "code",
   "execution_count": 14,
   "metadata": {},
   "outputs": [],
   "source": [
    "from itertools import product\n",
    "import random\n",
    "all_positions = list(product(range(4), range(4)))\n"
   ]
  },
  {
   "cell_type": "code",
   "execution_count": 15,
   "metadata": {},
   "outputs": [
    {
     "output_type": "execute_result",
     "data": {
      "text/plain": [
       "((3, 2), (0, 2))"
      ]
     },
     "metadata": {},
     "execution_count": 15
    }
   ],
   "source": [
    "cds = list(product(range(4), range(4))) \n",
    "lns = list(product(cds, cds)) \n",
    "ln_p = np.ones(len(lns)) \n",
    "for i, ln in enumerate(lns): \n",
    "    if ln[0][0] == ln[1][0]: # if x coords are the same\n",
    "        ln_p[i] += 5 \n",
    "    if ln[0] == ln[1]: # if beg/end are the same\n",
    "        ln_p[i] = 0 \n",
    "ln_p /= ln_p.sum() # normalize\n",
    "lns[np.random.choice(np.arange(len(lns)), p=ln_p)]"
   ]
  },
  {
   "cell_type": "code",
   "execution_count": 16,
   "metadata": {},
   "outputs": [],
   "source": [
    "save_path = \"../Codex/_project/_images/glyphs/\"\n",
    "for i in range(800):\n",
    "    lines = []\n",
    "    linenumber = choice([1, 2, 3, 4, 6, 8], p=[ 0.01, 0.09, 0.6, 0.2, 0.05, 0.05])\n",
    "    for n in range(linenumber):\n",
    "        coords = lns[np.random.choice(np.arange(len(lns)), p=ln_p)]\n",
    "        lines.append(Polyline(np.linspace(coords[0], coords[1], 10)).scale(25))\n",
    "    d = document(100, 100, 'mm')\n",
    "    page = d.addpage()\n",
    "    brush = shape().nostroke().fill(rgba(0, 0, 0, 255))\n",
    "    for line in lines:\n",
    "        page.place(brush.polygon(line.fancy_curve(thicknesses=[5, 2, 1, 0.5])))\n",
    "    fileName = \"glyph_\"+str(i)\n",
    "    namePath = os.path.join(save_path, fileName+\".svg\")\n",
    "    with open(namePath, \"wb\") as fh:\n",
    "        fh.write(page.svg())"
   ]
  },
  {
   "cell_type": "code",
   "execution_count": null,
   "metadata": {},
   "outputs": [],
   "source": []
  }
 ],
 "metadata": {
  "kernelspec": {
   "name": "python391jvsc74a57bd07812ea015bdcee6f23a998adcdd2ef97c151c0c241b7b7070987d9313e41299d",
   "display_name": "Python 3.9.1 64-bit"
  },
  "language_info": {
   "codemirror_mode": {
    "name": "ipython",
    "version": 3
   },
   "file_extension": ".py",
   "mimetype": "text/x-python",
   "name": "python",
   "nbconvert_exporter": "python",
   "pygments_lexer": "ipython3",
   "version": "3.9.1"
  },
  "metadata": {
   "interpreter": {
    "hash": "7812ea015bdcee6f23a998adcdd2ef97c151c0c241b7b7070987d9313e41299d"
   }
  }
 },
 "nbformat": 4,
 "nbformat_minor": 4
}