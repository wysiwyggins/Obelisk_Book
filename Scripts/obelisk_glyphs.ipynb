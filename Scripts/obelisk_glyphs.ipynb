{
 "cells": [
  {
   "cell_type": "code",
   "execution_count": 20,
   "metadata": {},
   "outputs": [],
   "source": [
    "# make 100 cuneiform svg characters with flat"
   ]
  },
  {
   "cell_type": "code",
   "execution_count": 21,
   "metadata": {},
   "outputs": [
    {
     "output_type": "stream",
     "name": "stdout",
     "text": [
      "\u001b[33mWARNING: Value for scheme.headers does not match. Please report this to <https://github.com/pypa/pip/issues/9617>\n",
      "distutils: /Library/Frameworks/Python.framework/Versions/3.9/include/python3.9/UNKNOWN\n",
      "sysconfig: /Library/Frameworks/Python.framework/Versions/3.9/include/python3.9\u001b[0m\n",
      "\u001b[33mWARNING: Additional context:\n",
      "user = False\n",
      "home = None\n",
      "root = None\n",
      "prefix = None\u001b[0m\n",
      "Requirement already satisfied: flat in /Library/Frameworks/Python.framework/Versions/3.9/lib/python3.9/site-packages (0.3.2)\n",
      "\u001b[33mWARNING: Value for scheme.headers does not match. Please report this to <https://github.com/pypa/pip/issues/9617>\n",
      "distutils: /Library/Frameworks/Python.framework/Versions/3.9/include/python3.9/UNKNOWN\n",
      "sysconfig: /Library/Frameworks/Python.framework/Versions/3.9/include/python3.9\u001b[0m\n",
      "\u001b[33mWARNING: Additional context:\n",
      "user = False\n",
      "home = None\n",
      "root = None\n",
      "prefix = None\u001b[0m\n"
     ]
    }
   ],
   "source": [
    "!pip install flat"
   ]
  },
  {
   "cell_type": "code",
   "execution_count": 22,
   "metadata": {},
   "outputs": [],
   "source": [
    "import os.path"
   ]
  },
  {
   "cell_type": "code",
   "execution_count": 23,
   "metadata": {},
   "outputs": [],
   "source": [
    "from flat import document, shape, rgba"
   ]
  },
  {
   "cell_type": "code",
   "execution_count": 24,
   "metadata": {},
   "outputs": [],
   "source": [
    "from IPython.display import SVG, display\n",
    "def show(page):\n",
    "    display(SVG(page.svg()))"
   ]
  },
  {
   "cell_type": "code",
   "execution_count": 25,
   "metadata": {},
   "outputs": [
    {
     "output_type": "stream",
     "name": "stdout",
     "text": [
      "\u001b[33mWARNING: Value for scheme.headers does not match. Please report this to <https://github.com/pypa/pip/issues/9617>\n",
      "distutils: /Library/Frameworks/Python.framework/Versions/3.9/include/python3.9/UNKNOWN\n",
      "sysconfig: /Library/Frameworks/Python.framework/Versions/3.9/include/python3.9\u001b[0m\n",
      "\u001b[33mWARNING: Additional context:\n",
      "user = False\n",
      "home = None\n",
      "root = None\n",
      "prefix = None\u001b[0m\n",
      "Collecting https://github.com/aparrish/bezmerizing/archive/master.zip\n",
      "  Using cached https://github.com/aparrish/bezmerizing/archive/master.zip\n",
      "Requirement already satisfied: flat>=0.0.3 in /Library/Frameworks/Python.framework/Versions/3.9/lib/python3.9/site-packages (from bezmerizing==0.1.1) (0.3.2)\n",
      "Requirement already satisfied: scipy>=1.1.0 in /Library/Frameworks/Python.framework/Versions/3.9/lib/python3.9/site-packages (from bezmerizing==0.1.1) (1.6.2)\n",
      "Requirement already satisfied: numpy>=1.16.0 in /Library/Frameworks/Python.framework/Versions/3.9/lib/python3.9/site-packages (from bezmerizing==0.1.1) (1.20.2)\n",
      "\u001b[33mWARNING: Value for scheme.headers does not match. Please report this to <https://github.com/pypa/pip/issues/9617>\n",
      "distutils: /Library/Frameworks/Python.framework/Versions/3.9/include/python3.9/UNKNOWN\n",
      "sysconfig: /Library/Frameworks/Python.framework/Versions/3.9/include/python3.9\u001b[0m\n",
      "\u001b[33mWARNING: Additional context:\n",
      "user = False\n",
      "home = None\n",
      "root = None\n",
      "prefix = None\u001b[0m\n"
     ]
    }
   ],
   "source": [
    "!pip install https://github.com/aparrish/bezmerizing/archive/master.zip"
   ]
  },
  {
   "cell_type": "code",
   "execution_count": 36,
   "metadata": {},
   "outputs": [],
   "source": [
    "from bezmerizing import Polyline"
   ]
  },
  {
   "cell_type": "code",
   "execution_count": 37,
   "metadata": {},
   "outputs": [],
   "source": [
    "import numpy as np"
   ]
  },
  {
   "cell_type": "code",
   "execution_count": 38,
   "metadata": {},
   "outputs": [],
   "source": [
    "from numpy.random import uniform, normal, choice"
   ]
  },
  {
   "cell_type": "code",
   "execution_count": 39,
   "metadata": {},
   "outputs": [
    {
     "output_type": "execute_result",
     "data": {
      "text/plain": [
       "array([[ 0.        , 50.        ],\n",
       "       [ 6.66666667, 43.33333333],\n",
       "       [13.33333333, 36.66666667],\n",
       "       [20.        , 30.        ],\n",
       "       [26.66666667, 23.33333333],\n",
       "       [33.33333333, 16.66666667],\n",
       "       [40.        , 10.        ]])"
      ]
     },
     "metadata": {},
     "execution_count": 39
    }
   ],
   "source": [
    "np.linspace([0, 50], [40, 10], 7)"
   ]
  },
  {
   "cell_type": "code",
   "execution_count": 40,
   "metadata": {},
   "outputs": [],
   "source": [
    "p = Polyline(np.linspace([10, 50], [90, 50], 10))"
   ]
  },
  {
   "cell_type": "code",
   "execution_count": 1,
   "metadata": {},
   "outputs": [
    {
     "output_type": "error",
     "ename": "NameError",
     "evalue": "name 'p' is not defined",
     "traceback": [
      "\u001b[0;31m---------------------------------------------------------------------------\u001b[0m",
      "\u001b[0;31mNameError\u001b[0m                                 Traceback (most recent call last)",
      "\u001b[0;32m<ipython-input-1-f115373f479e>\u001b[0m in \u001b[0;36m<module>\u001b[0;34m\u001b[0m\n\u001b[0;32m----> 1\u001b[0;31m \u001b[0mp\u001b[0m\u001b[0;34m.\u001b[0m\u001b[0mfancy_curve\u001b[0m\u001b[0;34m(\u001b[0m\u001b[0mthicknesses\u001b[0m\u001b[0;34m=\u001b[0m\u001b[0;34m[\u001b[0m\u001b[0;36m7\u001b[0m\u001b[0;34m,\u001b[0m \u001b[0;36m4\u001b[0m\u001b[0;34m,\u001b[0m \u001b[0;36m2\u001b[0m\u001b[0;34m,\u001b[0m \u001b[0;36m1\u001b[0m\u001b[0;34m]\u001b[0m\u001b[0;34m)\u001b[0m\u001b[0;34m\u001b[0m\u001b[0;34m\u001b[0m\u001b[0m\n\u001b[0m",
      "\u001b[0;31mNameError\u001b[0m: name 'p' is not defined"
     ]
    }
   ],
   "source": [
    "p.fancy_curve(thicknesses=[7, 4, 2, 1])"
   ]
  },
  {
   "cell_type": "code",
   "execution_count": 47,
   "metadata": {},
   "outputs": [
    {
     "output_type": "display_data",
     "data": {
      "text/plain": "<IPython.core.display.SVG object>",
      "image/svg+xml": "<svg xmlns=\"http://www.w3.org/2000/svg\" xmlns:xlink=\"http://www.w3.org/1999/xlink\" version=\"1.1\" width=\"283.4646pt\" height=\"283.4646pt\" viewBox=\"0 0 283.4646 283.4646\">\n<title>Untitled</title>\n<polygon points=\"53.5433 130.3937 58.5827 130.8085 63.622 131.2234 68.6614 131.6382 73.7008 132.053 78.7402 132.4678 78.7402 132.8827 83.7795 133.2975 88.8189 133.7123 93.8583 134.1271 98.8976 134.542 103.937 134.9568 103.937 135.3716 108.9764 135.7864 114.0157 136.1321 119.0551 136.3395 124.0945 136.547 129.1339 136.7544 129.1339 136.9618 134.1732 137.1692 139.2126 137.3766 144.252 137.584 149.2913 137.7914 154.3307 137.9988 154.3307 138.2063 159.3701 138.4137 164.4094 138.6211 169.4488 138.8285 174.4882 138.9668 179.5276 139.0705 179.5276 139.1742 184.5669 139.2779 189.6063 139.3816 194.6457 139.4853 199.685 139.589 204.7244 139.6927 204.7244 139.7964 209.7638 139.9001 214.8031 140.0038 219.8425 140.1075 224.8819 140.2113 229.9213 140.315 229.9213 143.1496 224.8819 143.2533 219.8425 143.357 214.8031 143.4607 209.7638 143.5644 204.7244 143.6681 204.7244 143.7718 199.685 143.8756 194.6457 143.9793 189.6063 144.083 184.5669 144.1867 179.5276 144.2904 179.5276 144.3941 174.4882 144.4978 169.4488 144.6361 164.4094 144.8435 159.3701 145.0509 154.3307 145.2583 154.3307 145.4657 149.2913 145.6731 144.252 145.8805 139.2126 146.088 134.1732 146.2954 129.1339 146.5028 129.1339 146.7102 124.0945 146.9176 119.0551 147.125 114.0157 147.3324 108.9764 147.6781 103.937 148.093 103.937 148.5078 98.8976 148.9226 93.8583 149.3374 88.8189 149.7523 83.7795 150.1671 78.7402 150.5819 78.7402 150.9967 73.7008 151.4116 68.6614 151.8264 63.622 152.2412 58.5827 152.656 53.5433 153.0709\" fill=\"rgba(0,0,0,1)\"/>\n</svg>"
     },
     "metadata": {}
    }
   ],
   "source": [
    "d = document(100, 100, 'mm')\n",
    "page = d.addpage()\n",
    "brush = shape().nostroke().fill(rgba(0, 0, 0, 255))\n",
    "page.place(brush.polygon(p.fancy_curve(thicknesses=[8, 4, 2, 1])))\n",
    "show(page)"
   ]
  },
  {
   "cell_type": "code",
   "execution_count": 48,
   "metadata": {},
   "outputs": [],
   "source": [
    "from itertools import product\n",
    "import random\n",
    "all_positions = list(product(range(4), range(4)))\n"
   ]
  },
  {
   "cell_type": "code",
   "execution_count": 49,
   "metadata": {},
   "outputs": [
    {
     "output_type": "execute_result",
     "data": {
      "text/plain": [
       "((1, 3), (0, 2))"
      ]
     },
     "metadata": {},
     "execution_count": 49
    }
   ],
   "source": [
    "cds = list(product(range(4), range(4))) \n",
    "lns = list(product(cds, cds)) \n",
    "ln_p = np.ones(len(lns)) \n",
    "for i, ln in enumerate(lns): \n",
    "    if ln[0][0] == ln[1][0]: # if x coords are the same\n",
    "        ln_p[i] += 5 \n",
    "    if ln[0] == ln[1]: # if beg/end are the same\n",
    "        ln_p[i] = 0 \n",
    "ln_p /= ln_p.sum() # normalize\n",
    "lns[np.random.choice(np.arange(len(lns)), p=ln_p)]"
   ]
  },
  {
   "cell_type": "code",
   "execution_count": 51,
   "metadata": {},
   "outputs": [],
   "source": [
    "save_path = \"../Codex/_project/_images/glyphs/\"\n",
    "for i in range(800):\n",
    "    lines = []\n",
    "    linenumber = choice([1, 2, 3, 4, 6, 8], p=[ 0.01, 0.09, 0.6, 0.2, 0.05, 0.05])\n",
    "    for n in range(linenumber):\n",
    "        coords = lns[np.random.choice(np.arange(len(lns)), p=ln_p)]\n",
    "        lines.append(Polyline(np.linspace(coords[0], coords[1], 10)).scale(25))\n",
    "    d = document(100, 100, 'mm')\n",
    "    page = d.addpage()\n",
    "    brush = shape().nostroke().fill(rgba(0, 0, 0, 255))\n",
    "    for line in lines:\n",
    "        page.place(brush.polygon(line.fancy_curve(thicknesses=[7, 4, 2, 1])))\n",
    "    fileName = \"glyph_\"+str(i)\n",
    "    namePath = os.path.join(save_path, fileName+\".svg\")\n",
    "    with open(namePath, \"wb\") as fh:\n",
    "        fh.write(page.svg())"
   ]
  },
  {
   "cell_type": "code",
   "execution_count": null,
   "metadata": {},
   "outputs": [],
   "source": []
  }
 ],
 "metadata": {
  "kernelspec": {
   "name": "python391jvsc74a57bd07812ea015bdcee6f23a998adcdd2ef97c151c0c241b7b7070987d9313e41299d",
   "display_name": "Python 3.9.1 64-bit"
  },
  "language_info": {
   "codemirror_mode": {
    "name": "ipython",
    "version": 3
   },
   "file_extension": ".py",
   "mimetype": "text/x-python",
   "name": "python",
   "nbconvert_exporter": "python",
   "pygments_lexer": "ipython3",
   "version": "3.9.1"
  },
  "metadata": {
   "interpreter": {
    "hash": "7812ea015bdcee6f23a998adcdd2ef97c151c0c241b7b7070987d9313e41299d"
   }
  }
 },
 "nbformat": 4,
 "nbformat_minor": 4
}